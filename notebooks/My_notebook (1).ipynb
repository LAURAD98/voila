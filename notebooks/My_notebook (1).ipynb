{
  "nbformat": 4,
  "nbformat_minor": 0,
  "metadata": {
    "colab": {
      "name": "My notebook.ipynb",
      "provenance": []
    },
    "kernelspec": {
      "name": "python3",
      "display_name": "Python 3"
    },
    "language_info": {
      "name": "python"
    }
  },
  "cells": [
    {
      "cell_type": "markdown",
      "source": [
        "# Final Assessment\n",
        "\n",
        "Laura Dahm (i6235448)"
      ],
      "metadata": {
        "id": "VI-XYA6eblGt"
      }
    },
    {
      "cell_type": "markdown",
      "source": [
        "## 1. Introduction\n",
        "\n",
        "Research question: \n",
        "\n",
        "How high was the mortality associated with covid-19 in Germany compared to other European countries in January 2022?\n"
      ],
      "metadata": {
        "id": "7OtbmrPwcMB_"
      }
    },
    {
      "cell_type": "markdown",
      "source": [
        "## 2. Data preparation"
      ],
      "metadata": {
        "id": "P0pA-xq7cSHV"
      }
    },
    {
      "cell_type": "code",
      "source": [
        "# import relevant libraries:\n",
        "import pandas as pd\n",
        "import altair as alt\n",
        "import ipywidgets as widgets"
      ],
      "metadata": {
        "id": "TSjLifL3cy6Y"
      },
      "execution_count": null,
      "outputs": []
    },
    {
      "cell_type": "code",
      "source": [
        "# load dataset:\n",
        "covid = pd.read_csv('https://covid.ourworldindata.org/data/owid-covid-data.csv')"
      ],
      "metadata": {
        "id": "SogcFA8_h4sP"
      },
      "execution_count": null,
      "outputs": []
    },
    {
      "cell_type": "code",
      "source": [
        "# selecting relevant columns for Germany\n",
        "relevant_columns = ['continent', 'location', 'date', 'new_cases_smoothed_per_million', 'new_deaths_smoothed_per_million']\n",
        "covid_germany = covid.loc[covid.location == 'Germany', relevant_columns]\n",
        "covid_germany.loc[covid.date.str.contains('2022-01-')]"
      ],
      "metadata": {
        "id": "V-Hkx9a2i4fv"
      },
      "execution_count": null,
      "outputs": []
    },
    {
      "cell_type": "code",
      "source": [
        "# selecting relevant columns for Europe\n",
        "relevant_columns = ['continent', 'location', 'date', 'new_cases_smoothed_per_million', 'new_deaths_smoothed_per_million']\n",
        "covid_europe = covid.loc[covid.continent == 'Europe', relevant_columns]\n",
        "covid_europe.loc[covid.date.str.contains('2022-01-')]"
      ],
      "metadata": {
        "id": "mgSvClfuj5_i"
      },
      "execution_count": null,
      "outputs": []
    },
    {
      "cell_type": "markdown",
      "source": [
        "## 3. Exploring and cleaning data"
      ],
      "metadata": {
        "id": "U_W-8r_YcUEp"
      }
    },
    {
      "cell_type": "code",
      "source": [
        ""
      ],
      "metadata": {
        "id": "o6QNBN4bczWM"
      },
      "execution_count": null,
      "outputs": []
    },
    {
      "cell_type": "markdown",
      "source": [
        "## 4. Descriptives and visualizations"
      ],
      "metadata": {
        "id": "LLxhsucJceer"
      }
    },
    {
      "cell_type": "code",
      "source": [
        ""
      ],
      "metadata": {
        "id": "epcfEaCdczyH"
      },
      "execution_count": null,
      "outputs": []
    },
    {
      "cell_type": "markdown",
      "source": [
        "## 5. Conclusion"
      ],
      "metadata": {
        "id": "3Z0WZnL3ch13"
      }
    },
    {
      "cell_type": "code",
      "source": [
        ""
      ],
      "metadata": {
        "id": "bBhe0pasc0WS"
      },
      "execution_count": null,
      "outputs": []
    }
  ]
}